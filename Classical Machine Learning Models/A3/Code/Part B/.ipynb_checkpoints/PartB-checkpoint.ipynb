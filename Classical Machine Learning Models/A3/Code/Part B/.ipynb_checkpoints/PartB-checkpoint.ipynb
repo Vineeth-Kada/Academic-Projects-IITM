{
 "cells": [
  {
   "cell_type": "markdown",
   "id": "43fa84dd",
   "metadata": {},
   "source": [
    "# Common Function & Libraries for both data sets"
   ]
  },
  {
   "cell_type": "code",
   "execution_count": 1,
   "id": "f7b96828",
   "metadata": {},
   "outputs": [],
   "source": [
    "import os\n",
    "import numpy as np\n",
    "import matplotlib.pyplot as plt\n",
    "from sklearn.metrics import DetCurveDisplay\n",
    "from numba import njit\n",
    "execfile('../sharedFunctions.py')"
   ]
  },
  {
   "cell_type": "code",
   "execution_count": 2,
   "id": "ea393480",
   "metadata": {},
   "outputs": [],
   "source": [
    "@njit\n",
    "def DTW(a, b, w):\n",
    "    n, m = len(a), len(b)\n",
    "    dtw = np.zeros((n + 1, m + 1), dtype = np.float64)\n",
    "    dtw.fill(np.inf)\n",
    "    \n",
    "    # We are taking the least size window possible i.e., abs(n - m)\n",
    "    # But it shouldn't be too low so we are using atleast w passed by user\n",
    "    w = max(w, abs(n - m))\n",
    "    \n",
    "    dtw[0][0] = 0.0\n",
    "\n",
    "    # DTW calculation\n",
    "    for i in range(1, n+1):\n",
    "        lb = max(1, i - w)\n",
    "        ub = min(m+1, i + w + 1)\n",
    "        for j in range(lb, ub):\n",
    "            dtw[i][j] = 0.0\n",
    "            cost = np.linalg.norm(a[i-1] - b[j-1])\n",
    "            dtw[i][j] = cost + min(min(dtw[i][j-1], dtw[i-1][j]), dtw[i-1][j-1])\n",
    "\n",
    "    return dtw[n][m]"
   ]
  },
  {
   "cell_type": "markdown",
   "id": "cb227a5e",
   "metadata": {},
   "source": [
    "# Data Extraction - Isolated Spoken-Digit Dataset"
   ]
  },
  {
   "cell_type": "code",
   "execution_count": 3,
   "id": "f60d20fd",
   "metadata": {},
   "outputs": [],
   "source": [
    "def extractDigitData(dir):\n",
    "    files = os.listdir(dir)\n",
    "    \n",
    "    templates = []; NC = 0\n",
    "    for file in files:\n",
    "        currFile = []\n",
    "        with open(dir + file, 'r') as f:\n",
    "            NC, NF = list(map(int, f.readline().split()))\n",
    "            for line in f.readlines():\n",
    "                currFile.append(np.array(line.split(), dtype = np.float64))\n",
    "        templates.append(np.array(currFile))\n",
    "\n",
    "    return NC, templates\n",
    "    \n",
    "Handwriting = False\n",
    "\n",
    "classList = ['1', '4', '5', '7', 'o']\n",
    "nClasses = len(classList)\n",
    "\n",
    "train, dev = [[] for i in range(nClasses)], [[] for i in range(nClasses)]\n",
    "NC = 0\n",
    "\n",
    "for cls in range(nClasses):\n",
    "    NC, train[cls] = extractDigitData(\"./Isolated_Digits_Data/\" + classList[cls] + \"/train/\")\n",
    "    NC, dev[cls] = extractDigitData(\"./Isolated_Digits_Data/\" + classList[cls] + \"/dev/\")"
   ]
  },
  {
   "cell_type": "markdown",
   "id": "9bcdf455",
   "metadata": {},
   "source": [
    "# Data Extraction - Online Handwritten-Character dataset"
   ]
  },
  {
   "cell_type": "raw",
   "id": "70769af2",
   "metadata": {},
   "source": [
    "def extractHandWritingData(dir):\n",
    "    files = os.listdir(dir)\n",
    "    \n",
    "    templates = []\n",
    "    for file in files:\n",
    "        with open(dir + file, 'r') as f:\n",
    "            curr = np.array(f.readline().split()[1:], dtype=np.float64).reshape(-1,2)\n",
    "            \n",
    "            # Position Invariant\n",
    "            for i in range(2):\n",
    "                mn = np.min(curr[:, i])\n",
    "                mx = np.max(curr[:, i])\n",
    "                curr[:, i] = curr[:, i] - (mn + mx) / 2\n",
    "            \n",
    "            # Scale Invariant\n",
    "            mn = np.array([np.min(curr[:, 0]), np.min(curr[:, 1])])\n",
    "            mx = np.array([np.max(curr[:, 0]), np.max(curr[:, 1])])\n",
    "            diff = mx - mn\n",
    "            curr[:, 0] = curr[:, 0] / diff[0]\n",
    "            curr[:, 1] = curr[:, 1] / diff[1]\n",
    "                \n",
    "            templates.append(curr)\n",
    "\n",
    "    return templates\n",
    "\n",
    "Handwriting = True\n",
    "    \n",
    "classList = ['ai', 'bA', 'dA', 'lA', 'tA']\n",
    "nClasses = len(classList)\n",
    "\n",
    "train, dev = [[] for i in range(nClasses)], [[] for i in range(nClasses)]\n",
    "\n",
    "for cls in range(nClasses):\n",
    "    train[cls] = extractHandWritingData(\"./Handwriting_Data/\" + classList[cls] + \"/train/\")\n",
    "    dev[cls] = extractHandWritingData(\"./Handwriting_Data/\" + classList[cls] + \"/dev/\")"
   ]
  },
  {
   "cell_type": "markdown",
   "id": "7336e2a5",
   "metadata": {},
   "source": [
    "# Testing Zone"
   ]
  },
  {
   "cell_type": "code",
   "execution_count": 4,
   "id": "07292d79",
   "metadata": {
    "scrolled": true
   },
   "outputs": [
    {
     "name": "stdout",
     "output_type": "stream",
     "text": [
      "WINDOW: 55\n",
      "Class0\n"
     ]
    },
    {
     "ename": "KeyboardInterrupt",
     "evalue": "",
     "output_type": "error",
     "traceback": [
      "\u001b[0;31m---------------------------------------------------------------------------\u001b[0m",
      "\u001b[0;31mKeyboardInterrupt\u001b[0m                         Traceback (most recent call last)",
      "File \u001b[0;32m<timed exec>:20\u001b[0m, in \u001b[0;36m<module>\u001b[0;34m\u001b[0m\n",
      "\u001b[0;31mKeyboardInterrupt\u001b[0m: "
     ]
    }
   ],
   "source": [
    "%%time\n",
    "\n",
    "if(Handwriting): dir_path = 'HandWritten_'\n",
    "else: dir_path = 'SpokenDigit_'\n",
    "    \n",
    "if(Handwriting): windowRange = range(5, 50, 5)\n",
    "else: windowRange = range(55, 56, 5)\n",
    "\n",
    "window_value = []\n",
    "window_acc = []\n",
    "for window in windowRange:\n",
    "    window_value.append(window)\n",
    "    print(\"WINDOW:\", window)\n",
    "    scores = []\n",
    "    for actual_cls in range(nClasses):\n",
    "        print(\"Class\" + str(actual_cls))\n",
    "        for d_i in range(len(dev[actual_cls])):\n",
    "            currAvgScoreList = []\n",
    "            for cmp_cls in range(nClasses):\n",
    "                thisClassScores = np.zeros(len(train[cmp_cls]))\n",
    "                for t_i in range(len(train[cmp_cls])):\n",
    "                    thisClassScores[t_i] = DTW(train[cmp_cls][t_i], dev[actual_cls][d_i], window)\n",
    "                currAvgScoreList.append(thisClassScores)\n",
    "            scores.append(currAvgScoreList)\n",
    "\n",
    "    mx_acc = 0\n",
    "    k_value = []\n",
    "    k_acc = []\n",
    "\n",
    "    for top_k in range(5, 95):\n",
    "        k_value.append(top_k)\n",
    "        pred_values = []\n",
    "        ground_truth = []\n",
    "        likelihood = [[] for i in range(nClasses)]\n",
    "        nTests, accuracy = 0, 0\n",
    "        for actual_cls in range(nClasses):\n",
    "            for d_i in range(len(dev[actual_cls])):\n",
    "\n",
    "                ground_truth.append(actual_cls)\n",
    "\n",
    "                currAvgScoreList = scores[nTests]\n",
    "                currAvgScoreListNew = []\n",
    "                for cmp_cls in range(nClasses):\n",
    "\n",
    "                    thisClassScores = currAvgScoreList[cmp_cls]\n",
    "\n",
    "                    k = top_k * len(thisClassScores) // 100\n",
    "                    idx = np.argpartition(thisClassScores, k)\n",
    "                    best_k_avg = np.sum(thisClassScores[idx[:k]]) / k\n",
    "\n",
    "                    likelihood[cmp_cls].append(1 / best_k_avg)\n",
    "                    currAvgScoreListNew.append(best_k_avg)\n",
    "\n",
    "                pred_value = np.argmin(currAvgScoreListNew)\n",
    "                if(pred_value == actual_cls): accuracy += 1\n",
    "                pred_values.append(pred_value)\n",
    "                nTests += 1\n",
    "        accuracy /= nTests\n",
    "        if(accuracy * 100 > mx_acc):\n",
    "            max_k = top_k\n",
    "            mx_acc = accuracy * 100\n",
    "        k_acc.append(accuracy * 100)\n",
    "\n",
    "        if (Handwriting and top_k == 20) or ((not Handwriting) and top_k == 20):\n",
    "            prior = [1 / nClasses for _ in range(nClasses)]\n",
    "            ROC(likelihood, prior, nTests, nClasses, ground_truth)\n",
    "            plt.xlabel('False Positive Rate'); plt.ylabel('True Positive Rate')\n",
    "            plt.title('ROC for top k = ' + str(top_k) + ' and window = ' + str(window))\n",
    "            plt.savefig(dir_path + 'w' + str(window) + '_k' + str(top_k) + '_ROC.svg') \n",
    "            plt.clf()\n",
    "\n",
    "            prior = [1 / nClasses for _ in range(nClasses)]\n",
    "            FPR, FNR = DET(likelihood, prior, nTests, nClasses, ground_truth)\n",
    "            ax = plt.gca()\n",
    "            DetCurveDisplay(fpr = FPR, fnr = FNR).plot(ax)\n",
    "            plt.title('DET for top k = ' + str(top_k) + ' and window = ' + str(window))\n",
    "            plt.savefig(dir_path + 'w' + str(window) + '_k' + str(top_k) + '_DET.svg') \n",
    "            plt.clf()\n",
    "\n",
    "    window_acc.append(mx_acc)\n",
    "    plt.plot(k_value, k_acc)\n",
    "    plt.xlabel('Least K Scores')\n",
    "    plt.ylabel('Accuracy Percentage') \n",
    "    plt.title('Least K scores vs. Max Accuracy for window = ' + str(window))\n",
    "    plt.savefig(dir_path + 'w' + str(window) + '_k_vs_accuracy.svg')\n",
    "    plt.clf()\n",
    "\n",
    "    print(\"*\" * 25)\n",
    "    print(\"Accuracy is\", mx_acc)\n",
    "    print(\"*\" * 25)\n",
    "\n",
    "plt.plot(window_value, window_acc)\n",
    "plt.xlabel('Window Size')\n",
    "plt.ylabel('Accuracy Percentage')\n",
    "plt.title('Window vs. Max Accuracy')\n",
    "plt.savefig(dir_path + 'window_vs_max_accuracy.svg')\n",
    "plt.clf()"
   ]
  },
  {
   "cell_type": "code",
   "execution_count": null,
   "id": "f54a7747",
   "metadata": {},
   "outputs": [],
   "source": []
  }
 ],
 "metadata": {
  "kernelspec": {
   "display_name": "Python 3 (ipykernel)",
   "language": "python",
   "name": "python3"
  },
  "language_info": {
   "codemirror_mode": {
    "name": "ipython",
    "version": 3
   },
   "file_extension": ".py",
   "mimetype": "text/x-python",
   "name": "python",
   "nbconvert_exporter": "python",
   "pygments_lexer": "ipython3",
   "version": "3.9.10"
  }
 },
 "nbformat": 4,
 "nbformat_minor": 5
}
